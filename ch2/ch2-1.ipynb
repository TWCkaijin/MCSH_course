{
 "cells": [
  {
   "cell_type": "markdown",
   "metadata": {},
   "source": [
    "# Ch2-1 陣列\n",
    "陣列是一個可以儲存多組數據的資料結構，並且以他的排列順序作為index，方便儲存一組有順序的資料"
   ]
  },
  {
   "cell_type": "markdown",
   "metadata": {},
   "source": [
    "### 1.宣告陣列，並告訴電腦這個陣列你裡面要存放甚麼"
   ]
  },
  {
   "cell_type": "code",
   "execution_count": null,
   "metadata": {},
   "outputs": [],
   "source": [
    "array = []  # 也可以宣告空的陣列\n",
    "array = [1,2,3,4,5] # 宣告有5個元素的陣列\n",
    "print(array)\n",
    "print(type(array))\n"
   ]
  },
  {
   "cell_type": "markdown",
   "metadata": {},
   "source": [
    "### 2.存取陣列中的元素\n",
    "我們可以直接在這個陣列的後方加入中括號`[]`，並在中括號中填入我們要的第幾個數，就可以取得這個陣列中的元素"
   ]
  },
  {
   "cell_type": "code",
   "execution_count": null,
   "metadata": {},
   "outputs": [],
   "source": [
    "array = [1,2,3,4,5]\n",
    "print(array[1])"
   ]
  },
  {
   "cell_type": "markdown",
   "metadata": {},
   "source": [
    "但這時我們可以發現找到的是第二個元素，也就是index是從0開始的，所以第一個元素的index是0，第二個元素的index是1，以此類推</br>\n",
    "所以如果我們要找到第一個元素，就要在中括號中填入0"
   ]
  },
  {
   "cell_type": "code",
   "execution_count": null,
   "metadata": {},
   "outputs": [],
   "source": [
    "print(array[0])"
   ]
  },
  {
   "cell_type": "markdown",
   "metadata": {},
   "source": [
    "### 3.修改陣列中的元素\n",
    "我們可以直接在這個陣列的後方加入中括號`[]`，並在中括號中填入我們要的第幾個數，就可以取得這個陣列中的元素，並且對他進行修改</br>\n",
    "例如: "
   ]
  },
  {
   "cell_type": "code",
   "execution_count": null,
   "metadata": {},
   "outputs": [],
   "source": [
    "array = [1,2,3,4,5]\n",
    "array[0] = 100\n",
    "print(array)"
   ]
  },
  {
   "cell_type": "markdown",
   "metadata": {},
   "source": [
    "### 4.陣列的長度\n",
    "我們可以使用`len()`函數來取得陣列的長度"
   ]
  },
  {
   "cell_type": "code",
   "execution_count": null,
   "metadata": {},
   "outputs": [],
   "source": [
    "array = [1,2,3,4,5]\n",
    "print(len(array))"
   ]
  },
  {
   "cell_type": "markdown",
   "metadata": {},
   "source": [
    "### 5.陣列的一些特別方法"
   ]
  },
  {
   "cell_type": "markdown",
   "metadata": {},
   "source": [
    "- append(): 可以將一個元素加入到陣列的最後面"
   ]
  },
  {
   "cell_type": "code",
   "execution_count": null,
   "metadata": {},
   "outputs": [],
   "source": [
    "array = [1,2,3,4,5]\n",
    "array.append(6)  #在list的最後面加入一個元素\n",
    "print(array)"
   ]
  },
  {
   "cell_type": "markdown",
   "metadata": {},
   "source": [
    "- insert(): 可以將一個元素加入到陣列的指定位置"
   ]
  },
  {
   "cell_type": "code",
   "execution_count": null,
   "metadata": {},
   "outputs": [],
   "source": [
    "array = [1,2,3,4,5]\n",
    "array.insert(0, 0) #在list的第0個位置加入一個元素\n",
    "print(array)"
   ]
  },
  {
   "cell_type": "markdown",
   "metadata": {},
   "source": [
    "- remove(): 可以將陣列中指定的元素刪除"
   ]
  },
  {
   "cell_type": "code",
   "execution_count": null,
   "metadata": {},
   "outputs": [],
   "source": [
    "array = [1,2,3,4,5]\n",
    "array.remove(3)   #移除list中的元素25\n",
    "print(array)"
   ]
  },
  {
   "cell_type": "markdown",
   "metadata": {},
   "source": [
    "- pop(): 可以將陣列中指定位置的元素刪除"
   ]
  },
  {
   "cell_type": "code",
   "execution_count": null,
   "metadata": {},
   "outputs": [],
   "source": [
    "array = [1,2,3,4,5]\n",
    "array.pop(4)  #移除list中的第五個元素\n",
    "print(array)"
   ]
  },
  {
   "cell_type": "markdown",
   "metadata": {},
   "source": [
    "- sort(): 可以將陣列中的元素進行排序"
   ]
  },
  {
   "cell_type": "code",
   "execution_count": null,
   "metadata": {},
   "outputs": [],
   "source": [
    "array = [1,2,3,4,5]\n",
    "array.sort(reverse=True)  #將list中的元素由大到小排序\n",
    "print(array)"
   ]
  },
  {
   "cell_type": "markdown",
   "metadata": {},
   "source": [
    "- index(): 可以找到陣列中指定元素的位置 (如果沒有該元素，會出現錯誤)"
   ]
  },
  {
   "cell_type": "code",
   "execution_count": null,
   "metadata": {},
   "outputs": [],
   "source": [
    "array = [1,2,3,4,5]\n",
    "print(array.index(4))  #找出list中元素4的位置"
   ]
  },
  {
   "cell_type": "code",
   "execution_count": null,
   "metadata": {},
   "outputs": [],
   "source": [
    "array = [1,2,3,4,5]\n",
    "print(array.index(0))  #會出現錯誤"
   ]
  },
  {
   "cell_type": "markdown",
   "metadata": {},
   "source": [
    "- count(): 回傳某個元素在陣列中出現的次數"
   ]
  },
  {
   "cell_type": "code",
   "execution_count": null,
   "metadata": {},
   "outputs": [],
   "source": [
    "array = [1,2,3,4,5]\n",
    "print(array.count(4))  #計算list中元素4的個數"
   ]
  },
  {
   "cell_type": "markdown",
   "metadata": {},
   "source": [
    "- clear(): 移除list中的所有元素"
   ]
  },
  {
   "cell_type": "code",
   "execution_count": null,
   "metadata": {},
   "outputs": [],
   "source": [
    "array = [1,2,3,4,5]\n",
    "array.clear()  #清空list\n",
    "print(array)"
   ]
  },
  {
   "cell_type": "markdown",
   "metadata": {},
   "source": [
    "### 6.進階的陣列用法"
   ]
  },
  {
   "cell_type": "markdown",
   "metadata": {},
   "source": [
    "- 陣列切片: 我們可以使用`:`來取得陣列中的一部分，例如`arr[1:3]`，這樣就可以取得陣列中index為1到3的元素</br>\n",
    "(注意: 這裡的3是不包含的，範圍只有1到2，所以我們會說`python 左閉右開`)"
   ]
  },
  {
   "cell_type": "code",
   "execution_count": null,
   "metadata": {},
   "outputs": [],
   "source": [
    "array = [1,2,3,4,5,6,7,8,9]\n",
    "print(array[0])     #陣列中的第一個元素\n",
    "print(array[-1])    #陣列中的最後一個元素\n",
    "\n",
    "print(array[1:6])   #陣列中的第二個到第六個元素 0 1 2 3 4 5，不包含六號元素\n",
    "print(array[:6])    #陣列中的第一個到第六個元素\n",
    "print(array[1:])    #陣列中的第二個到最後一個元素\n",
    "print(array[:])     #陣列中的所有元素\n",
    "print(array[1:6:2]) #陣列中的第二個到第六個元素，間隔2\n",
    "\n",
    "print(array[6:1])\n",
    "print(array[6:1:-1])  #陣列中的第七個到第二個元素，反轉\n",
    "print(array[::-1])  #陣列中的所有元素，反轉\n",
    "\n",
    "print(array[6:1:-3])  #陣列中的第二個到第六個元素，間隔2"
   ]
  },
  {
   "cell_type": "markdown",
   "metadata": {},
   "source": [
    "- 二維陣列: 陣列中的元素也可以是陣列，這樣就可以形成二維陣列，例如`arr = [[1,2,3],[4,5,6],[7,8,9]]`，這樣就可以形成一個3x3的二維陣列"
   ]
  },
  {
   "cell_type": "code",
   "execution_count": null,
   "metadata": {},
   "outputs": [],
   "source": [
    "array = [[1,2,3],[4,5,6],[7,8,9]] #二維陣列\n",
    "print(array)                      #取出整個二維陣列 [[1,2,3],[4,5,6],[7,8,9]]\n",
    "print(array[0])                   #取出第一個元素 [1,2,3]\n",
    "print(array[0][0])                #取出第一個元素中的第一個元素 1"
   ]
  },
  {
   "cell_type": "code",
   "execution_count": null,
   "metadata": {},
   "outputs": [],
   "source": [
    "#這樣排版會更好看\n",
    "array = [\n",
    "    [1,2,3],\n",
    "    [4,5,6],\n",
    "    [7,8,9]\n",
    "]"
   ]
  },
  {
   "cell_type": "markdown",
   "metadata": {},
   "source": [
    "- 其實字串也是一種陣列，所以我們也可以使用陣列的方法來操作字串"
   ]
  },
  {
   "cell_type": "code",
   "execution_count": null,
   "metadata": {},
   "outputs": [],
   "source": [
    "# 字串其實也是陣列\n",
    "sen = \"Hello World\"\n",
    "print(sen[0],sen[6])"
   ]
  },
  {
   "cell_type": "markdown",
   "metadata": {},
   "source": [
    "### 7.課後小任務"
   ]
  },
  {
   "cell_type": "markdown",
   "metadata": {},
   "source": [
    "在下面的程式碼中，我們宣告了一個陣列`arr`，請你依序完成以下的任務:\n",
    "1. 將陣列中的第一個元素改成`\"apple\"`\n",
    "2. 將陣列中的第三個元素改成`\"banana\"`\n",
    "3. 將陣列中的第四個元素刪除\n",
    "4. 將陣列中的第二個元素插入到陣列的最後面\n",
    "5. 找到元素`\"banana\"`在陣列中的位置\n",
    "6. 把整個陣列反向並以間隔二印出"
   ]
  },
  {
   "cell_type": "code",
   "execution_count": null,
   "metadata": {},
   "outputs": [],
   "source": [
    "arr = [\"a\",\"b\",\"c\",\"d\",\"e\"]\n"
   ]
  }
 ],
 "metadata": {
  "kernelspec": {
   "display_name": "base",
   "language": "python",
   "name": "python3"
  },
  "language_info": {
   "codemirror_mode": {
    "name": "ipython",
    "version": 3
   },
   "file_extension": ".py",
   "mimetype": "text/x-python",
   "name": "python",
   "nbconvert_exporter": "python",
   "pygments_lexer": "ipython3",
   "version": "3.12.9"
  }
 },
 "nbformat": 4,
 "nbformat_minor": 2
}
