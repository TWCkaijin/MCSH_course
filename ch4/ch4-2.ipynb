{
 "cells": [
  {
   "cell_type": "markdown",
   "metadata": {},
   "source": [
    "# Ch4-2 For loop"
   ]
  },
  {
   "cell_type": "markdown",
   "metadata": {},
   "source": [
    "### 1. 使用range()來走訪數字"
   ]
  },
  {
   "cell_type": "code",
   "execution_count": null,
   "metadata": {},
   "outputs": [],
   "source": [
    "for i in range(5):  #用for迴圈來走訪range(注意，range(5)是0到4)\n",
    "    print(i)"
   ]
  },
  {
   "cell_type": "code",
   "execution_count": null,
   "metadata": {},
   "outputs": [],
   "source": [
    "for i in range(5,10): #如果想要走訪5~9，可以用range(5,10)，注意10是不包含的\n",
    "    print(i)"
   ]
  },
  {
   "cell_type": "code",
   "execution_count": null,
   "metadata": {},
   "outputs": [],
   "source": [
    "for i in range(20,0,-2): #如果想要走訪20到2的偶數，必須要在後面加上-2，表示遞減2\n",
    "    print(i)"
   ]
  },
  {
   "cell_type": "markdown",
   "metadata": {},
   "source": [
    "### 2. 走訪陣列元素"
   ]
  },
  {
   "cell_type": "code",
   "execution_count": null,
   "metadata": {},
   "outputs": [],
   "source": [
    "x = [1,2,3,4]  #先定義一個list\n",
    "\n",
    "for i in x:  #用for迴圈來走訪list\n",
    "    print(i)"
   ]
  },
  {
   "cell_type": "code",
   "execution_count": null,
   "metadata": {},
   "outputs": [],
   "source": [
    "x = [\"apple\",\"banana\",\"orange\"]  #定義一個字串list\n",
    "\n",
    "for i in x:  #用for迴圈來走訪字串list\n",
    "    print(i)"
   ]
  },
  {
   "cell_type": "markdown",
   "metadata": {},
   "source": [
    "### 3. 走訪Tuple元素"
   ]
  },
  {
   "cell_type": "markdown",
   "metadata": {},
   "source": [
    "Tuple是什麼？\n",
    "你可以把tuple 想像成一個“不能更改內容”的陣列"
   ]
  },
  {
   "cell_type": "code",
   "execution_count": null,
   "metadata": {},
   "outputs": [],
   "source": [
    "t = (1,2,3,4)  #定義一個tuple\n",
    "for i in t:  #用for迴圈來走訪tuple\n",
    "    print(i)"
   ]
  },
  {
   "cell_type": "code",
   "execution_count": null,
   "metadata": {},
   "outputs": [],
   "source": [
    "t = (1,2,3,4)\n",
    "t[2] = 5  #這行會報錯，因為tuple是不可變的"
   ]
  },
  {
   "cell_type": "markdown",
   "metadata": {},
   "source": [
    "tuple 還可以被直接拆解成多個變數"
   ]
  },
  {
   "cell_type": "code",
   "execution_count": null,
   "metadata": {},
   "outputs": [],
   "source": [
    "a = (1,2)\n",
    "x ,y = a  \n",
    "print(x,y)"
   ]
  },
  {
   "cell_type": "markdown",
   "metadata": {},
   "source": [
    "而我們可以把tuple視為一個物件放入陣列之中"
   ]
  },
  {
   "cell_type": "code",
   "execution_count": null,
   "metadata": {},
   "outputs": [],
   "source": [
    "a = (1,2)\n",
    "b = (3,4)\n",
    "c = (5,6)\n",
    "\n",
    "mylist = [a,b,c]  #定義一個list，裡面有三個tuple\n",
    "for i in mylist:  #用for迴圈來走訪list\n",
    "    print(i)"
   ]
  },
  {
   "cell_type": "markdown",
   "metadata": {},
   "source": [
    "套用前面的拆解tuple的方法"
   ]
  },
  {
   "cell_type": "code",
   "execution_count": null,
   "metadata": {},
   "outputs": [],
   "source": [
    "# tuple 在迴圈中的使用\n",
    "x = [(1,'a'),(2,'b'),(3,'c')]  #定義一個元素為tuple的list \n",
    "\n",
    "for num , char in x:  #用zip()來將tuple中的元素一一對應\n",
    "    print(num,char)"
   ]
  },
  {
   "cell_type": "markdown",
   "metadata": {},
   "source": [
    "python中，也有特別的工具`zip()`可以將多個list 打包成 tuple list，讓我們更方便地去同時走訪多個物件 \n",
    "\n",
    "(如果兩個list長度不一樣，zip會自動取最短的那個list的長度來做為zip物件的長度)"
   ]
  },
  {
   "cell_type": "code",
   "execution_count": null,
   "metadata": {},
   "outputs": [],
   "source": [
    "# zip()的使用\n",
    "x = [1,2,3,4,5,6,7] \n",
    "y = ['a','b','c']\n",
    "\n",
    "myzip = zip(x,y)  #zip()可以將兩個list中的元素一一對應成tuple\n",
    "print(myzip)  #注意，zip()會回傳一個zip物件，所以要用list()來轉換成list\n",
    "\n",
    "print(list(myzip)) "
   ]
  },
  {
   "cell_type": "markdown",
   "metadata": {},
   "source": [
    "然後有一些小特性：ZIP物件被取用之後，就會消失"
   ]
  },
  {
   "cell_type": "code",
   "execution_count": null,
   "metadata": {},
   "outputs": [],
   "source": [
    "#我們複製一次上面的程式碼\n",
    "x = [1,2,3]\n",
    "y = ['a','b','c']\n",
    "myzip = zip(x,y)\n",
    "print(myzip)  \n",
    "print(list(myzip)) \n",
    "\n",
    "\n",
    "#然後額外增加一個print\n",
    "print(list(myzip))  #這行會出問題，因為zip()物件只能使用一次，第二次使用會是空的"
   ]
  },
  {
   "cell_type": "markdown",
   "metadata": {},
   "source": [
    "所以我們還是建議各位使用zip時，單獨的在每次要使用時使用一次ZIP\n",
    "\n",
    "另外，套言前面提到tuple物件是可以被分配的，我們可以將tuple拆開成多個變數"
   ]
  },
  {
   "cell_type": "code",
   "execution_count": null,
   "metadata": {},
   "outputs": [],
   "source": [
    "x = [1,2,3]\n",
    "y = ['a','b','c']\n",
    "\n",
    "\n",
    "for i,j in zip(x,y):  #zip()可以將兩個list中的元素一一對應\n",
    "    print(f'i = {i}, j={j}')\n",
    "\n",
    "print('------------------')\n",
    "\n",
    "for i in zip(x,y):  #如果只有一個變數，則會將兩個list中的元素一一對應成tuple\n",
    "    print(f'i = {i}')"
   ]
  },
  {
   "cell_type": "markdown",
   "metadata": {},
   "source": [
    "### 4. 不只走訪，還有操作！"
   ]
  },
  {
   "cell_type": "markdown",
   "metadata": {},
   "source": [
    "我們也可以在for 中加入各式各樣的操作，來完成迭代的條件\n",
    "\n",
    "\n",
    "例如：判斷是否為回文（該字顛倒過來是否還是同樣的字）"
   ]
  },
  {
   "cell_type": "code",
   "execution_count": null,
   "metadata": {},
   "outputs": [],
   "source": [
    "str1 = '123432'\n",
    "\n",
    "is_palindrome = True  #先假設是迴文\n",
    "for i in range(len(str1)):  #用for迴圈來走訪字串\n",
    "    if (str1[i]!=str1[-1-i]): #如果字串的對稱位置不相等，則不是迴文\n",
    "        is_palindrome = False\n",
    "        break\n",
    "    \n",
    "if is_palindrome:  #如果是迴文，則印出結果\n",
    "    print('是迴文')\n",
    "else:\n",
    "    print('不是迴文')"
   ]
  },
  {
   "cell_type": "code",
   "execution_count": null,
   "metadata": {},
   "outputs": [],
   "source": [
    "str1 = '1234321'\n",
    "\n",
    "is_palindrome = (str1[:] == str1[::-1])  #用切片來判斷是否是迴文\n",
    "\n",
    "if is_palindrome: \n",
    "    print('是迴文')\n",
    "else:\n",
    "    print('不是迴文')"
   ]
  },
  {
   "cell_type": "markdown",
   "metadata": {},
   "source": [
    "### 5.經典練習題\n"
   ]
  },
  {
   "cell_type": "markdown",
   "metadata": {},
   "source": [
    "#### 1.印出下面的圖形\n",
    "<br>*\n",
    "<br>**\n",
    "<br>***\n",
    "<br>****\n",
    "<br>*****"
   ]
  },
  {
   "cell_type": "code",
   "execution_count": null,
   "metadata": {},
   "outputs": [],
   "source": [
    "for j in range(1,6):\n",
    "    print(\"*\"*j)"
   ]
  },
  {
   "cell_type": "markdown",
   "metadata": {},
   "source": [
    "#### 2.印出下面圖形\n",
    "<br>*\n",
    "<br>**\n",
    "<br>***\n",
    "<br>****\n",
    "<br>*****\n",
    "<br>****\n",
    "<br>***\n",
    "<br>**\n",
    "<br>*"
   ]
  },
  {
   "cell_type": "code",
   "execution_count": null,
   "metadata": {},
   "outputs": [],
   "source": [
    "for j in range(1,6):      #[1,2,3,4,5]\n",
    "    print(\"*\"*j)\n",
    "for j in range(4,0,-1):   #[4,3,2,1]\n",
    "    print(\"*\"*j)"
   ]
  },
  {
   "cell_type": "markdown",
   "metadata": {},
   "source": [
    "#### 3.印出99乘法表"
   ]
  },
  {
   "cell_type": "code",
   "execution_count": null,
   "metadata": {},
   "outputs": [],
   "source": [
    "for i in range(1,10):\n",
    "    for j in range(1,10):\n",
    "        print(i*j,end=\" \")  #print(f'{i*j:<3}',end=\" \")\n",
    "    print(\"\")"
   ]
  },
  {
   "cell_type": "markdown",
   "metadata": {},
   "source": [
    "### X.課後小任務"
   ]
  },
  {
   "cell_type": "markdown",
   "metadata": {},
   "source": [
    "幫我找一段長文章內有那些地方出現了不是英文字的字母，把不是空格的物件移除並印出來完整的段落\n",
    "\n",
    "\n",
    "禁止使用isalpha()這個方法\n",
    "\n",
    "tips: <br>\n",
    "ASCII a~z = 97~122<br/>\n",
    "ASCII A~Z = 65~90<br/>\n",
    "ASCII 0~9 = 48~57<br>"
   ]
  },
  {
   "cell_type": "code",
   "execution_count": null,
   "metadata": {},
   "outputs": [],
   "source": [
    "content = r\"!`Lorem ipsum do#lor sit amet, consect$eturs你好 &** \\adipiscing elit. Sed do ei%usmod tempor incididunt ut labore et do我lore magna aliqua@@. Ut enim ad minim ve)^%niam, qui%s nostrud exercitation ullamco laboris nisi ut aliquip ex ea commodo 」、consequat. Duis aute$^%  irure dolor i$@%^7n reprehenderit in voluptate velit esse cillum dolore eu fugiat nulla pariatur. Excepteur sint occaecat「 cupidatat non proident, sunt in culpa qui officia deserunt mollit anim id est laborum.\"\n",
    "\n"
   ]
  },
  {
   "cell_type": "code",
   "execution_count": null,
   "metadata": {},
   "outputs": [],
   "source": []
  }
 ],
 "metadata": {
  "kernelspec": {
   "display_name": "base",
   "language": "python",
   "name": "python3"
  },
  "language_info": {
   "codemirror_mode": {
    "name": "ipython",
    "version": 3
   },
   "file_extension": ".py",
   "mimetype": "text/x-python",
   "name": "python",
   "nbconvert_exporter": "python",
   "pygments_lexer": "ipython3",
   "version": "3.12.9"
  }
 },
 "nbformat": 4,
 "nbformat_minor": 2
}
