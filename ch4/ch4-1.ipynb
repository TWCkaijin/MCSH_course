{
 "cells": [
  {
   "cell_type": "markdown",
   "metadata": {},
   "source": [
    "# Ch4-1 While loop"
   ]
  },
  {
   "cell_type": "markdown",
   "metadata": {},
   "source": [
    "#### 0.基本定義\n",
    "\n",
    "While是什麼？\n",
    "while 是一個迴圈的概念，當條件成立時，就會一直執行迴圈內的程式碼，直到條件不成立為止。\n",
    "\n",
    "```python\n",
    "while 條件:\n",
    "....程式碼\n",
    "....程式碼\n",
    "\n",
    "迴圈外部程式碼\n",
    "```"
   ]
  },
  {
   "cell_type": "markdown",
   "metadata": {},
   "source": [
    "### 1.基本操作"
   ]
  },
  {
   "cell_type": "code",
   "execution_count": null,
   "metadata": {},
   "outputs": [],
   "source": [
    "x = 0\n",
    "while x<10:  # 當X<10時，就會一直執行縮排裡面的程式碼\n",
    "    print(x)\n",
    "    x+=1"
   ]
  },
  {
   "cell_type": "code",
   "execution_count": null,
   "metadata": {},
   "outputs": [],
   "source": [
    "x = 0\n",
    "while x != 10:  # X!=10時，就會一直執行縮排裡面的程式碼\n",
    "    print(x)\n",
    "    x+=1"
   ]
  },
  {
   "cell_type": "code",
   "execution_count": null,
   "metadata": {},
   "outputs": [],
   "source": [
    "x = 0\n",
    "while x != -1:  # 當裡面的條件成立時，就會一直執行縮排裡面的程式碼 ，特別小心這種潛在的窮迴圈\n",
    "    print(x)\n",
    "    x+=1"
   ]
  },
  {
   "cell_type": "code",
   "execution_count": null,
   "metadata": {},
   "outputs": [],
   "source": [
    "x  = 0\n",
    "while True:  #永遠的迴圈\n",
    "    print(x)\n",
    "    x += 1"
   ]
  },
  {
   "cell_type": "markdown",
   "metadata": {},
   "source": [
    "### 2.包含input的while loop"
   ]
  },
  {
   "cell_type": "code",
   "execution_count": null,
   "metadata": {},
   "outputs": [],
   "source": [
    "x = 5\n",
    "while x != int(input('enter a number')):\n",
    "    print(\"Wrong ans\")"
   ]
  },
  {
   "cell_type": "code",
   "execution_count": null,
   "metadata": {},
   "outputs": [],
   "source": [
    "while (x != 'q' and x != 'Q'):\n",
    "    x = input('enter a string')\n",
    "    print(f\"you type {x}\")\n",
    "\n",
    "print(\"Quit\")"
   ]
  },
  {
   "cell_type": "markdown",
   "metadata": {},
   "source": [
    "### 3.簡單的if複合操作"
   ]
  },
  {
   "cell_type": "code",
   "execution_count": null,
   "metadata": {},
   "outputs": [],
   "source": [
    "#單一while迴圈 印出1~100的奇數\n",
    "x = 0\n",
    "while x<100:\n",
    "    x+=1\n",
    "    if x%2!=0:\n",
    "        print(x)"
   ]
  },
  {
   "cell_type": "code",
   "execution_count": null,
   "metadata": {},
   "outputs": [],
   "source": [
    "arr = []\n",
    "x = 0\n",
    "while len(arr)<5:\n",
    "    arr.append(x)\n",
    "    print(arr)\n",
    "    x+=1"
   ]
  },
  {
   "cell_type": "markdown",
   "metadata": {},
   "source": [
    "### 4.包含Break（終止）, continue（下一步）的複合操作"
   ]
  },
  {
   "cell_type": "code",
   "execution_count": null,
   "metadata": {},
   "outputs": [],
   "source": [
    "x = 0\n",
    "while True: # 無窮迴圈\n",
    "    print(x)\n",
    "    x+=1\n",
    "    if x>20: # 當條件成立時，就會\"Break\"跳出最接近的迴圈\n",
    "        break"
   ]
  },
  {
   "cell_type": "code",
   "execution_count": null,
   "metadata": {},
   "outputs": [],
   "source": [
    "x = 0\n",
    "while x<10:\n",
    "    x += 1\n",
    "    if x%2==0: # 當條件成立時，就會\"Continue\"跳出最接近的迴圈，繼續下一個迴圈\n",
    "        continue\n",
    "    print(x)"
   ]
  },
  {
   "cell_type": "markdown",
   "metadata": {},
   "source": [
    "### 5.多層的while 迴圈"
   ]
  },
  {
   "cell_type": "code",
   "execution_count": null,
   "metadata": {},
   "outputs": [],
   "source": [
    "x = 0\n",
    "y = 0\n",
    "while x<3:\n",
    "    x+=1\n",
    "    while y<3:\n",
    "        print(f'x={x} || y={y}')\n",
    "        y+=1\n"
   ]
  },
  {
   "cell_type": "markdown",
   "metadata": {},
   "source": [
    "我們可以發現，在內部的Y 執行後，因為我們沒有將Ｙ重新設定為0，所以在下一次的迴圈中，Y的值會保留在上一次的值，導致迴圈無法正常運作。\n",
    "\n",
    "如果我們要讓迴圈正常運作，我們可以在迴圈的開頭將Y重新設定為0，這樣就可以讓迴圈正常運作。"
   ]
  },
  {
   "cell_type": "code",
   "execution_count": null,
   "metadata": {},
   "outputs": [],
   "source": [
    "x = 0\n",
    "y = 0\n",
    "while x<3:\n",
    "    x+=1\n",
    "    while y<3:\n",
    "        print(f'x={x} || y={y}')\n",
    "        y+=1\n",
    "    y = 0\n"
   ]
  },
  {
   "cell_type": "markdown",
   "metadata": {},
   "source": [
    "#### 誒...這跟某東西有點像...?\n",
    "\n",
    "### 9x9乘法表的實現"
   ]
  },
  {
   "cell_type": "code",
   "execution_count": null,
   "metadata": {},
   "outputs": [],
   "source": [
    "x = 0\n",
    "y = 0\n",
    "while x<=9: # 無窮迴圈 \n",
    "    x += 1\n",
    "    while y<=9: # 無窮迴圈\n",
    "        y += 1\n",
    "        print(f'{x}x{y}={x*y}')\n",
    "    y=0"
   ]
  },
  {
   "cell_type": "markdown",
   "metadata": {},
   "source": [
    "### 邏輯思考練習題"
   ]
  },
  {
   "cell_type": "markdown",
   "metadata": {},
   "source": [
    "##### 1.請印出下面的圖形\n",
    "<br>*\n",
    "<br>**\n",
    "<br>***\n",
    "<br>****\n",
    "<br>*****"
   ]
  },
  {
   "cell_type": "code",
   "execution_count": null,
   "metadata": {},
   "outputs": [],
   "source": [
    "x = 1\n",
    "while x <=5:\n",
    "    print('*'*x) \n",
    "    x+=1\n"
   ]
  },
  {
   "cell_type": "markdown",
   "metadata": {},
   "source": [
    "##### 2.請印出下面的圖形\n",
    "<br>*\n",
    "<br>**\n",
    "<br>***\n",
    "<br>****\n",
    "<br>*****\n",
    "<br>****\n",
    "<br>***\n",
    "<br>**\n",
    "<br>*"
   ]
  },
  {
   "cell_type": "code",
   "execution_count": null,
   "metadata": {},
   "outputs": [],
   "source": [
    "x = 0\n",
    "while x <5:\n",
    "    x+=1\n",
    "    print('*'*x)\n",
    "    \n",
    "while x >=1:\n",
    "    x-=1\n",
    "    print('*'*x)\n",
    "    \n"
   ]
  },
  {
   "cell_type": "code",
   "execution_count": null,
   "metadata": {},
   "outputs": [],
   "source": [
    "x = 1\n",
    "flag = 1\n",
    "while x>0:\n",
    "    if(x>4):\n",
    "        flag = -1\n",
    "    print('*'*x)\n",
    "    x+=flag\n",
    "    "
   ]
  },
  {
   "cell_type": "markdown",
   "metadata": {},
   "source": [
    "### X.課後小任務\n",
    "將九九乘法表存入一個二維陣列\n",
    "[\n",
    "[1,2,3,4,5,....9],\n",
    "[2,4,6,8,10,...18],\n",
    ".\n",
    ".\n",
    "[9,18,27,36,...81]]"
   ]
  },
  {
   "cell_type": "code",
   "execution_count": null,
   "metadata": {},
   "outputs": [],
   "source": []
  },
  {
   "cell_type": "code",
   "execution_count": null,
   "metadata": {},
   "outputs": [],
   "source": []
  }
 ],
 "metadata": {
  "kernelspec": {
   "display_name": "base",
   "language": "python",
   "name": "python3"
  },
  "language_info": {
   "codemirror_mode": {
    "name": "ipython",
    "version": 3
   },
   "file_extension": ".py",
   "mimetype": "text/x-python",
   "name": "python",
   "nbconvert_exporter": "python",
   "pygments_lexer": "ipython3",
   "version": "3.12.9"
  }
 },
 "nbformat": 4,
 "nbformat_minor": 2
}
